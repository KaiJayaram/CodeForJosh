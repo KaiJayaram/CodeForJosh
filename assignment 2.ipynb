{
 "cells": [
  {
   "cell_type": "code",
   "execution_count": 1,
   "metadata": {
    "collapsed": true
   },
   "outputs": [],
   "source": [
    "import gzip\n",
    "import numpy as np\n",
    "import pandas as pd\n",
    "import scipy.optimize\n",
    "import random\n",
    "from collections import defaultdict\n",
    "import nltk\n",
    "from sklearn import svm\n",
    "import string\n",
    "from sklearn import linear_model\n",
    "import pickle"
   ]
  },
  {
   "cell_type": "code",
   "execution_count": 2,
   "metadata": {},
   "outputs": [],
   "source": [
    "# read data\n",
    "import pickle\n",
    "data = pickle.load(open(\"book_data.p\", \"rb\"))\n",
    "np.random.shuffle(data)"
   ]
  },
  {
   "cell_type": "code",
   "execution_count": 10,
   "metadata": {},
   "outputs": [],
   "source": [
    "books = {}\n",
    "book_descriptions = {}\n",
    "for a,b in data:\n",
    "    if a['book_id'] not in books:\n",
    "        books[a['book_id']] = []\n",
    "        book_descriptions[a['book_id']] = []\n",
    "    book_descriptions[a['book_id']].append(a['description'])\n",
    "    books[a['book_id']].append(categoryId[b])"
   ]
  },
  {
   "cell_type": "code",
   "execution_count": 11,
   "metadata": {},
   "outputs": [],
   "source": [
    "def binary(vec, i):\n",
    "    v = []\n",
    "    for item in vec:\n",
    "        if i in item:\n",
    "            v.append(1)\n",
    "        else:\n",
    "            v.append(0)\n",
    "    return v"
   ]
  },
  {
   "cell_type": "code",
   "execution_count": 12,
   "metadata": {
    "collapsed": true
   },
   "outputs": [],
   "source": [
    "X = []\n",
    "categories = []\n",
    "for book_id in books:\n",
    "    X.append(book_descriptions[book_id])\n",
    "    categories.append(books[book_id])"
   ]
  },
  {
   "cell_type": "code",
   "execution_count": 9,
   "metadata": {
    "collapsed": true
   },
   "outputs": [],
   "source": [
    "reviews = [d['description'] for d,b in data]\n",
    "categoryId = {}\n",
    "categoryId['child'] = 0\n",
    "categoryId['graphic'] = 1\n",
    "categoryId['fantasy'] = 2\n",
    "categoryId['history'] = 3\n",
    "categoryId['poetry'] = 4\n",
    "categoryId['thriller'] = 5\n",
    "categoryId['romance'] = 6\n",
    "categoryId['ya'] = 7\n",
    "idCategory = {}\n",
    "for a in categoryId:\n",
    "    idCategory[categoryId[a]] = a\n",
    "y = [categoryId[b] for d,b in data]"
   ]
  },
  {
   "cell_type": "code",
   "execution_count": 21,
   "metadata": {},
   "outputs": [],
   "source": [
    "from keras.datasets import imdb\n",
    "from keras.models import Sequential\n",
    "from keras.layers import Dense\n",
    "from keras.layers import LSTM\n",
    "from keras.layers.embeddings import Embedding\n",
    "from keras.preprocessing import sequence\n",
    "# fix random seed for reproducibility\n",
    "np.random.seed(7)"
   ]
  },
  {
   "cell_type": "code",
   "execution_count": 12,
   "metadata": {},
   "outputs": [],
   "source": [
    "wordCount = defaultdict(int)\n",
    "idf = defaultdict(int)\n",
    "punctuation = set(string.punctuation)\n",
    "avglen = 0\n",
    "for d,b in data:\n",
    "    r = ''.join([c for c in d['description'].lower() if not c in punctuation])\n",
    "    avglen += len(r.split())\n",
    "    seen = []\n",
    "    for w in r.split():\n",
    "        wordCount[w] += 1\n",
    "        if w not in seen:\n",
    "            idf[w] += 1\n",
    "            seen.append(w)\n",
    "counts = [(wordCount[w], w) for w in wordCount]\n",
    "counts.sort()\n",
    "counts.reverse()\n",
    "avglen /= len(data)"
   ]
  },
  {
   "cell_type": "code",
   "execution_count": 27,
   "metadata": {
    "collapsed": true
   },
   "outputs": [],
   "source": [
    "words = [x[1] for x in counts[:2000]]\n",
    "wordId = dict(zip(words, range(0,len(words))))\n",
    "wordSet = set(words)"
   ]
  },
  {
   "cell_type": "code",
   "execution_count": 8,
   "metadata": {},
   "outputs": [
    {
     "name": "stdout",
     "output_type": "stream",
     "text": [
      "Done. 400000  words loaded!\n"
     ]
    }
   ],
   "source": [
    "# read in glove model\n",
    "def loadGloveModel(gloveFile):\n",
    "    f = open(gloveFile,'r', encoding='utf-8')\n",
    "    model = {}\n",
    "    for line in f:\n",
    "        splitLine = line.split()\n",
    "        word = splitLine[0]\n",
    "        embedding = np.array([float(val) for val in splitLine[1:]])\n",
    "        model[word] = embedding\n",
    "    print(\"Done.\",len(model),\" words loaded!\")\n",
    "    return model\n",
    "glove = loadGloveModel(\"C:/Users/liqhtninq/OneDrive/LIGN 167/glove50d.txt\")"
   ]
  },
  {
   "cell_type": "code",
   "execution_count": 13,
   "metadata": {},
   "outputs": [],
   "source": [
    "X = []\n",
    "punctuation = string.punctuation\n",
    "for d,b in data:\n",
    "    r = ''.join([c for c in d['description'].lower() if not c in punctuation])\n",
    "    split = r.split()\n",
    "    vec = []\n",
    "    for w in split:\n",
    "        if w in glove:\n",
    "            vec.append(glove[w])\n",
    "    X.append(vec)"
   ]
  },
  {
   "cell_type": "code",
   "execution_count": 19,
   "metadata": {},
   "outputs": [],
   "source": [
    "X_train = X[:160000]\n",
    "y_train = categories[:160000]\n",
    "y_test = categories[160000:]\n",
    "X_test = X[160000:]"
   ]
  },
  {
   "cell_type": "code",
   "execution_count": 57,
   "metadata": {},
   "outputs": [
    {
     "data": {
      "text/plain": [
       "({'asin': ' ',\n",
       "  'authors': [{'author_id': '34049', 'role': ''}],\n",
       "  'average_rating': '4.37',\n",
       "  'book_id': '11922016',\n",
       "  'country_code': 'US',\n",
       "  'description': \"They are outcasts. Hal, Stig, and the others - they are the boys the others want no part of. Skandians, as any reader of Ranger's Apprentice could tell you, are known for their size and strength. Not these boys. Yet that doesn't mean they don't have skills. And courage - which they will need every ounce of to do battle at sea against the other bands, the Wolves and the Sharks, in the ultimate race. The icy waters make for a treacherous playing field . . . especially when not everyone thinks of it as playing.<br /><br />John Flanagan, author of the international phenomenon Ranger's Apprentice, creates a new cast of characters to populate his world of Skandians and Araluens, a world millions of young readers around the world have come to know and admire. Full of seafaring adventures and epic battles, Book 1 of The Brotherband Chronicles is sure to thrill readers of Ranger's Apprentice while enticing a whole new generation just now discovering the books.\",\n",
       "  'edition_information': ' ',\n",
       "  'format': ' ',\n",
       "  'image_url': 'https://images.gr-assets.com/books/1312436092m/11922016.jpg',\n",
       "  'is_ebook': 'true',\n",
       "  'isbn': ' ',\n",
       "  'isbn13': ' ',\n",
       "  'kindle_asin': ' ',\n",
       "  'language_code': 'eng',\n",
       "  'link': 'https://www.goodreads.com/book/show/11922016-the-outcasts',\n",
       "  'num_pages': '432',\n",
       "  'popular_shelves': [{'count': '784', 'name': 'to-read'},\n",
       "   {'count': '556', 'name': 'fantasy'},\n",
       "   {'count': '263', 'name': 'favorites'},\n",
       "   {'count': '229', 'name': 'young-adult'},\n",
       "   {'count': '223', 'name': 'currently-reading'},\n",
       "   {'count': '153', 'name': 'adventure'},\n",
       "   {'count': '88', 'name': 'ya'},\n",
       "   {'count': '85', 'name': 'fiction'},\n",
       "   {'count': '80', 'name': 'john-flanagan'},\n",
       "   {'count': '74', 'name': 'series'},\n",
       "   {'count': '61', 'name': 'owned'},\n",
       "   {'count': '40', 'name': 'books-i-own'},\n",
       "   {'count': '38', 'name': 'historical-fiction'},\n",
       "   {'count': '30', 'name': 'brotherband-chronicles'},\n",
       "   {'count': '30', 'name': 'action'},\n",
       "   {'count': '28', 'name': 'ya-fantasy'},\n",
       "   {'count': '27', 'name': 'teen'},\n",
       "   {'count': '26', 'name': 'children'},\n",
       "   {'count': '26', 'name': 'middle-grade'},\n",
       "   {'count': '25', 'name': 'action-adventure'},\n",
       "   {'count': '24', 'name': 'library'},\n",
       "   {'count': '23', 'name': 'brotherband'},\n",
       "   {'count': '22', 'name': 'default'},\n",
       "   {'count': '19', 'name': 'medieval'},\n",
       "   {'count': '17', 'name': 'childrens'},\n",
       "   {'count': '16', 'name': 'kids'},\n",
       "   {'count': '16', 'name': 'owned-books'},\n",
       "   {'count': '16', 'name': 'kindle'},\n",
       "   {'count': '14', 'name': 'audio'},\n",
       "   {'count': '14', 'name': 'to-buy'},\n",
       "   {'count': '14', 'name': 'ya-fiction'},\n",
       "   {'count': '13', 'name': 'ranger-s-apprentice'},\n",
       "   {'count': '13', 'name': 'ebook'},\n",
       "   {'count': '13', 'name': 'juvenile'},\n",
       "   {'count': '13', 'name': 'rangers-apprentice'},\n",
       "   {'count': '12', 'name': 'caudill-2014'},\n",
       "   {'count': '12', 'name': 'high-fantasy'},\n",
       "   {'count': '12', 'name': 'historical'},\n",
       "   {'count': '12', 'name': 'pirates'},\n",
       "   {'count': '12', 'name': 'coming-of-age'},\n",
       "   {'count': '11', 'name': 'audiobooks'},\n",
       "   {'count': '11', 'name': 'favourites'},\n",
       "   {'count': '11', 'name': 'middle-school'},\n",
       "   {'count': '10', 'name': 'read-in-2013'},\n",
       "   {'count': '10', 'name': 'flanagan'},\n",
       "   {'count': '10', 'name': 'read-in-2012'},\n",
       "   {'count': '10', 'name': 'friendship'},\n",
       "   {'count': '9', 'name': 'my-books'},\n",
       "   {'count': '9', 'name': 'young-adult-fiction'},\n",
       "   {'count': '9', 'name': 'wish-list'},\n",
       "   {'count': '9', 'name': 'favorite-books'},\n",
       "   {'count': '9', 'name': 'vikings'},\n",
       "   {'count': '9', 'name': 'fantasy-sci-fi'},\n",
       "   {'count': '9', 'name': 'maybe'},\n",
       "   {'count': '8', 'name': 'favorite'},\n",
       "   {'count': '8', 'name': 'series-to-read'},\n",
       "   {'count': '8', 'name': 'read-in-8th-grade'},\n",
       "   {'count': '8', 'name': 'own-it'},\n",
       "   {'count': '8', 'name': 'audiobook'},\n",
       "   {'count': '8', 'name': 'first-in-series'},\n",
       "   {'count': '8', 'name': 'good-books'},\n",
       "   {'count': '8', 'name': 'awesome'},\n",
       "   {'count': '8', 'name': 'i-own'},\n",
       "   {'count': '8', 'name': 'want-to-own'},\n",
       "   {'count': '8', 'name': 'australian'},\n",
       "   {'count': '8', 'name': 'juvenile-fiction'},\n",
       "   {'count': '8', 'name': 'epic-fantasy'},\n",
       "   {'count': '7', 'name': 'english'},\n",
       "   {'count': '7', 'name': 'best-books'},\n",
       "   {'count': '7', 'name': 'maybe-read'},\n",
       "   {'count': '7', 'name': 'fantasy-to-read'},\n",
       "   {'count': '7', 'name': 'school'},\n",
       "   {'count': '7', 'name': 'fantasy-fiction'},\n",
       "   {'count': '7', 'name': 'favorite-series'},\n",
       "   {'count': '6', 'name': 'shelfari-favorites'},\n",
       "   {'count': '6', 'name': 're-read'},\n",
       "   {'count': '6', 'name': 'library-books'},\n",
       "   {'count': '6', 'name': '8th-grade'},\n",
       "   {'count': '6', 'name': 'caudill'},\n",
       "   {'count': '6', 'name': 'rebecca-caudill-2014'},\n",
       "   {'count': '6', 'name': 'read-2013'},\n",
       "   {'count': '6', 'name': 'loved'},\n",
       "   {'count': '6', 'name': '5-stars'},\n",
       "   {'count': '6', 'name': 'scifi-fantasy'},\n",
       "   {'count': '6', 'name': 'youth'},\n",
       "   {'count': '6', 'name': 'audio-book'},\n",
       "   {'count': '6', 'name': 'want-to-read'},\n",
       "   {'count': '6', 'name': 'borrowed'},\n",
       "   {'count': '6', 'name': 'young'},\n",
       "   {'count': '6', 'name': '2012-books'},\n",
       "   {'count': '6', 'name': 'sci-fi-fantasy'},\n",
       "   {'count': '6', 'name': 'novels'},\n",
       "   {'count': '6', 'name': 'medieval-fantasy'},\n",
       "   {'count': '6', 'name': 'children-s-books'},\n",
       "   {'count': '5', 'name': 'read-2016'},\n",
       "   {'count': '5', 'name': 'boekenbingo-2016'},\n",
       "   {'count': '5', 'name': 'dnf'},\n",
       "   {'count': '5', 'name': 'on-my-shelf'},\n",
       "   {'count': '5', 'name': 'first-reads'},\n",
       "   {'count': '5', 'name': 'children-s'}],\n",
       "  'publication_day': '1',\n",
       "  'publication_month': '11',\n",
       "  'publication_year': '2011',\n",
       "  'publisher': 'Philomel',\n",
       "  'ratings_count': '661',\n",
       "  'series': ['s253150'],\n",
       "  'similar_books': ['5027092',\n",
       "   '12402915',\n",
       "   '6377397',\n",
       "   '6549447',\n",
       "   '11254850',\n",
       "   '6185409',\n",
       "   '7576979',\n",
       "   '12422629',\n",
       "   '11546463',\n",
       "   '13507662',\n",
       "   '11962191',\n",
       "   '12039371',\n",
       "   '17403533',\n",
       "   '11702955',\n",
       "   '6096231',\n",
       "   '6580712',\n",
       "   '12078852'],\n",
       "  'text_reviews_count': '13',\n",
       "  'url': 'https://www.goodreads.com/book/show/11922016-the-outcasts',\n",
       "  'work_id': '15455900'},\n",
       " 'fantasy')"
      ]
     },
     "execution_count": 57,
     "metadata": {},
     "output_type": "execute_result"
    }
   ],
   "source": [
    "data[1]"
   ]
  },
  {
   "cell_type": "code",
   "execution_count": 60,
   "metadata": {},
   "outputs": [
    {
     "data": {
      "text/plain": [
       "0.93950578385920691"
      ]
     },
     "execution_count": 60,
     "metadata": {},
     "output_type": "execute_result"
    }
   ],
   "source": [
    "from sklearn import linear_model\n",
    "clf = linear_model.LogisticRegression()\n",
    "yb = binary(y_train,6)\n",
    "clf.fit(X_train, yb)\n",
    "clf.score(X_test, binary(y_test,6))"
   ]
  },
  {
   "cell_type": "code",
   "execution_count": 15,
   "metadata": {},
   "outputs": [
    {
     "name": "stderr",
     "output_type": "stream",
     "text": [
      "Using TensorFlow backend.\n"
     ]
    }
   ],
   "source": [
    "# yvec = []\n",
    "# for d in y:\n",
    "#     z = np.zeros(5)\n",
    "#     z[d] = 1\n",
    "#     yvec.append(z)\n",
    "from keras.utils import np_utils\n",
    "# yvec = np_utils.to_categorical(y_test)\n"
   ]
  },
  {
   "cell_type": "code",
   "execution_count": 25,
   "metadata": {},
   "outputs": [
    {
     "name": "stdout",
     "output_type": "stream",
     "text": [
      "22217\n"
     ]
    },
    {
     "ename": "ValueError",
     "evalue": "Input arrays should have the same number of samples as target arrays. Found 40000 input samples and 22217 target samples.",
     "output_type": "error",
     "traceback": [
      "\u001b[1;31m---------------------------------------------------------------------------\u001b[0m",
      "\u001b[1;31mValueError\u001b[0m                                Traceback (most recent call last)",
      "\u001b[1;32m<ipython-input-25-11cc06ec75c4>\u001b[0m in \u001b[0;36m<module>\u001b[1;34m()\u001b[0m\n\u001b[0;32m     18\u001b[0m \u001b[0mmodel\u001b[0m\u001b[1;33m.\u001b[0m\u001b[0mcompile\u001b[0m\u001b[1;33m(\u001b[0m\u001b[0mloss\u001b[0m\u001b[1;33m=\u001b[0m\u001b[1;34m'hinge'\u001b[0m\u001b[1;33m,\u001b[0m \u001b[0moptimizer\u001b[0m\u001b[1;33m=\u001b[0m\u001b[1;34m'adadelta'\u001b[0m\u001b[1;33m,\u001b[0m \u001b[0mmetrics\u001b[0m\u001b[1;33m=\u001b[0m\u001b[1;33m[\u001b[0m\u001b[1;34m'accuracy'\u001b[0m\u001b[1;33m]\u001b[0m\u001b[1;33m)\u001b[0m\u001b[1;33m\u001b[0m\u001b[0m\n\u001b[0;32m     19\u001b[0m \u001b[1;31m# print(model.summary())\u001b[0m\u001b[1;33m\u001b[0m\u001b[1;33m\u001b[0m\u001b[0m\n\u001b[1;32m---> 20\u001b[1;33m \u001b[0mmodel\u001b[0m\u001b[1;33m.\u001b[0m\u001b[0mfit\u001b[0m\u001b[1;33m(\u001b[0m\u001b[0mX_train\u001b[0m\u001b[1;33m,\u001b[0m \u001b[0my_train\u001b[0m\u001b[1;33m,\u001b[0m \u001b[0mvalidation_data\u001b[0m\u001b[1;33m=\u001b[0m\u001b[1;33m(\u001b[0m\u001b[0mX_test\u001b[0m\u001b[1;33m,\u001b[0m \u001b[0my_test\u001b[0m\u001b[1;33m)\u001b[0m\u001b[1;33m,\u001b[0m \u001b[0mepochs\u001b[0m\u001b[1;33m=\u001b[0m\u001b[1;36m3\u001b[0m\u001b[1;33m,\u001b[0m \u001b[0mbatch_size\u001b[0m\u001b[1;33m=\u001b[0m\u001b[1;36m64\u001b[0m\u001b[1;33m)\u001b[0m\u001b[1;33m\u001b[0m\u001b[0m\n\u001b[0m",
      "\u001b[1;32mC:\\ProgramData\\Anaconda3\\lib\\site-packages\\keras\\engine\\training.py\u001b[0m in \u001b[0;36mfit\u001b[1;34m(self, x, y, batch_size, epochs, verbose, callbacks, validation_split, validation_data, shuffle, class_weight, sample_weight, initial_epoch, steps_per_epoch, validation_steps, **kwargs)\u001b[0m\n\u001b[0;32m    970\u001b[0m                 \u001b[0mval_x\u001b[0m\u001b[1;33m,\u001b[0m \u001b[0mval_y\u001b[0m\u001b[1;33m,\u001b[0m\u001b[1;33m\u001b[0m\u001b[0m\n\u001b[0;32m    971\u001b[0m                 \u001b[0msample_weight\u001b[0m\u001b[1;33m=\u001b[0m\u001b[0mval_sample_weight\u001b[0m\u001b[1;33m,\u001b[0m\u001b[1;33m\u001b[0m\u001b[0m\n\u001b[1;32m--> 972\u001b[1;33m                 batch_size=batch_size)\n\u001b[0m\u001b[0;32m    973\u001b[0m             \u001b[1;32mif\u001b[0m \u001b[0mself\u001b[0m\u001b[1;33m.\u001b[0m\u001b[0m_uses_dynamic_learning_phase\u001b[0m\u001b[1;33m(\u001b[0m\u001b[1;33m)\u001b[0m\u001b[1;33m:\u001b[0m\u001b[1;33m\u001b[0m\u001b[0m\n\u001b[0;32m    974\u001b[0m                 \u001b[0mval_ins\u001b[0m \u001b[1;33m=\u001b[0m \u001b[0mval_x\u001b[0m \u001b[1;33m+\u001b[0m \u001b[0mval_y\u001b[0m \u001b[1;33m+\u001b[0m \u001b[0mval_sample_weights\u001b[0m \u001b[1;33m+\u001b[0m \u001b[1;33m[\u001b[0m\u001b[1;36m0.\u001b[0m\u001b[1;33m]\u001b[0m\u001b[1;33m\u001b[0m\u001b[0m\n",
      "\u001b[1;32mC:\\ProgramData\\Anaconda3\\lib\\site-packages\\keras\\engine\\training.py\u001b[0m in \u001b[0;36m_standardize_user_data\u001b[1;34m(self, x, y, sample_weight, class_weight, check_array_lengths, batch_size)\u001b[0m\n\u001b[0;32m    802\u001b[0m             ]\n\u001b[0;32m    803\u001b[0m             \u001b[1;31m# Check that all arrays have the same length.\u001b[0m\u001b[1;33m\u001b[0m\u001b[1;33m\u001b[0m\u001b[0m\n\u001b[1;32m--> 804\u001b[1;33m             \u001b[0mcheck_array_length_consistency\u001b[0m\u001b[1;33m(\u001b[0m\u001b[0mx\u001b[0m\u001b[1;33m,\u001b[0m \u001b[0my\u001b[0m\u001b[1;33m,\u001b[0m \u001b[0msample_weights\u001b[0m\u001b[1;33m)\u001b[0m\u001b[1;33m\u001b[0m\u001b[0m\n\u001b[0m\u001b[0;32m    805\u001b[0m             \u001b[1;32mif\u001b[0m \u001b[0mself\u001b[0m\u001b[1;33m.\u001b[0m\u001b[0m_is_graph_network\u001b[0m\u001b[1;33m:\u001b[0m\u001b[1;33m\u001b[0m\u001b[0m\n\u001b[0;32m    806\u001b[0m                 \u001b[1;31m# Additional checks to avoid users mistakenly\u001b[0m\u001b[1;33m\u001b[0m\u001b[1;33m\u001b[0m\u001b[0m\n",
      "\u001b[1;32mC:\\ProgramData\\Anaconda3\\lib\\site-packages\\keras\\engine\\training_utils.py\u001b[0m in \u001b[0;36mcheck_array_length_consistency\u001b[1;34m(inputs, targets, weights)\u001b[0m\n\u001b[0;32m    235\u001b[0m                          \u001b[1;34m'the same number of samples as target arrays. '\u001b[0m\u001b[1;33m\u001b[0m\u001b[0m\n\u001b[0;32m    236\u001b[0m                          \u001b[1;34m'Found '\u001b[0m \u001b[1;33m+\u001b[0m \u001b[0mstr\u001b[0m\u001b[1;33m(\u001b[0m\u001b[0mlist\u001b[0m\u001b[1;33m(\u001b[0m\u001b[0mset_x\u001b[0m\u001b[1;33m)\u001b[0m\u001b[1;33m[\u001b[0m\u001b[1;36m0\u001b[0m\u001b[1;33m]\u001b[0m\u001b[1;33m)\u001b[0m \u001b[1;33m+\u001b[0m \u001b[1;34m' input samples '\u001b[0m\u001b[1;33m\u001b[0m\u001b[0m\n\u001b[1;32m--> 237\u001b[1;33m                          'and ' + str(list(set_y)[0]) + ' target samples.')\n\u001b[0m\u001b[0;32m    238\u001b[0m     \u001b[1;32mif\u001b[0m \u001b[0mlen\u001b[0m\u001b[1;33m(\u001b[0m\u001b[0mset_w\u001b[0m\u001b[1;33m)\u001b[0m \u001b[1;33m>\u001b[0m \u001b[1;36m1\u001b[0m\u001b[1;33m:\u001b[0m\u001b[1;33m\u001b[0m\u001b[0m\n\u001b[0;32m    239\u001b[0m         raise ValueError('All sample_weight arrays should have '\n",
      "\u001b[1;31mValueError\u001b[0m: Input arrays should have the same number of samples as target arrays. Found 40000 input samples and 22217 target samples."
     ]
    }
   ],
   "source": [
    "from keras.layers.convolutional import Conv1D\n",
    "from keras.layers.convolutional import MaxPooling1D\n",
    "top_words = 5001\n",
    "max_review_length = 100\n",
    "y_train = np_utils.to_categorical(binary(y_train,0))\n",
    "y_test = np_utils.to_categorical((binary(y_test,0)))\n",
    "X_train = sequence.pad_sequences(X_train, maxlen=max_review_length)\n",
    "print(len(y_test))\n",
    "X_test = sequence.pad_sequences(X_test, maxlen=max_review_length)\n",
    "# create the model\n",
    "embedding_vecor_length = 32\n",
    "model = Sequential()\n",
    "# model.add(Embedding(top_words, embedding_vecor_length, input_length=max_review_length))\n",
    "model.add(Conv1D(filters=128, kernel_size=3, padding='same', activation='relu'))\n",
    "model.add(MaxPooling1D(pool_size=2))\n",
    "model.add(LSTM(100))\n",
    "model.add(Dense(2, activation='linear'))\n",
    "model.compile(loss='hinge', optimizer='adadelta', metrics=['accuracy'])\n",
    "# print(model.summary())\n",
    "model.fit(X_train, y_train, validation_data=(X_test, y_test), epochs=3, batch_size=64)"
   ]
  },
  {
   "cell_type": "code",
   "execution_count": null,
   "metadata": {
    "collapsed": true
   },
   "outputs": [],
   "source": [
    "from keras.models import load_model\n",
    "model.save('assignment2_model.h5')  # creates a HDF5 file 'my_model.h5'"
   ]
  }
 ],
 "metadata": {
  "kernelspec": {
   "display_name": "Python 3",
   "language": "python",
   "name": "python3"
  }
 },
 "nbformat": 4,
 "nbformat_minor": 2
}
