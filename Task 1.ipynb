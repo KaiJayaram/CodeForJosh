{
 "cells": [
  {
   "cell_type": "code",
   "execution_count": 7,
   "metadata": {
    "collapsed": true
   },
   "outputs": [],
   "source": [
    "import gzip\n",
    "import numpy as np\n",
    "import pandas as pd\n",
    "import scipy.optimize\n",
    "import random\n",
    "from collections import defaultdict\n",
    "import nltk\n",
    "from sklearn import svm\n",
    "import string\n",
    "from sklearn import linear_model\n",
    "import pickle"
   ]
  },
  {
   "cell_type": "code",
   "execution_count": 8,
   "metadata": {
    "collapsed": true
   },
   "outputs": [],
   "source": [
    "def parseData(fname):\n",
    "  for l in open(fname):\n",
    "    yield eval(l)\n",
    "data = [d for d in parseData(\"train.json\")]"
   ]
  },
  {
   "cell_type": "code",
   "execution_count": 9,
   "metadata": {
    "collapsed": true
   },
   "outputs": [],
   "source": [
    "reviews = [d['reviewText'] for d in data]\n",
    "y = [d['categoryID'] for d in data]"
   ]
  },
  {
   "cell_type": "code",
   "execution_count": 267,
   "metadata": {
    "collapsed": true
   },
   "outputs": [],
   "source": [
    "categories = [[] for d in range(5)]\n",
    "for d in data:\n",
    "    categories[d['categoryID']].append(d)"
   ]
  },
  {
   "cell_type": "code",
   "execution_count": 3,
   "metadata": {
    "collapsed": true
   },
   "outputs": [],
   "source": [
    "import torch"
   ]
  },
  {
   "cell_type": "code",
   "execution_count": 321,
   "metadata": {},
   "outputs": [
    {
     "data": {
      "text/plain": [
       "(86423538, 119249800)"
      ]
     },
     "execution_count": 321,
     "metadata": {},
     "output_type": "execute_result"
    }
   ],
   "source": [
    "import numpy as np\n",
    "def loadGloveModel(gloveFile):\n",
    "    f = open(gloveFile,'r', encoding='utf-8')\n",
    "    model = {}\n",
    "    for line in f:\n",
    "        splitLine = line.split()\n",
    "        word = splitLine[0]\n",
    "        embedding = np.array([float(val) for val in splitLine[1:]])\n",
    "        model[word] = embedding\n",
    "    print(\"Done.\",len(model),\" words loaded!\")\n",
    "    return model\n",
    "import gensim\n",
    "s= []\n",
    "for d in data:\n",
    "    r = ''.join([c.lower() for c in d['reviewText']])\n",
    "    sentences = r.split('.')\n",
    "    for sentence in sentences:\n",
    "        words = []\n",
    "        for w in sentence.split():\n",
    "            words.append(w)\n",
    "        s.append(words)\n",
    "\n",
    "model = gensim.models.Word2Vec(\n",
    "        s,\n",
    "        size=100,\n",
    "        window=10,\n",
    "        min_count=0)\n",
    "model.train(s, total_examples=len(s), epochs=10)"
   ]
  },
  {
   "cell_type": "code",
   "execution_count": 5,
   "metadata": {},
   "outputs": [
    {
     "name": "stdout",
     "output_type": "stream",
     "text": [
      "Done. 400000  words loaded!\n"
     ]
    }
   ],
   "source": [
    "glove = loadGloveModel('glove300.txt')"
   ]
  },
  {
   "cell_type": "code",
   "execution_count": 42,
   "metadata": {
    "collapsed": true
   },
   "outputs": [],
   "source": [
    "X_train = np.array(X[:100000])\n",
    "X_test = np.array(X[100000:])\n",
    "y_train = np.array(y[:100000])\n",
    "y_test = np.array(y[1000000:])"
   ]
  },
  {
   "cell_type": "code",
   "execution_count": 322,
   "metadata": {
    "collapsed": true
   },
   "outputs": [],
   "source": [
    "def review_to_tensor(review):\n",
    "    punctuation = set(string.punctuation)\n",
    "    x = []\n",
    "    r = ''.join([c for c in review.lower() if not c in punctuation])\n",
    "    r = r.split()\n",
    "    for word in r:\n",
    "        if word not in glove:\n",
    "            r.remove(word)\n",
    "    tensor = torch.zeros(len(r), 1, 100)\n",
    "    for li, word in enumerate(r):\n",
    "        if word in model:\n",
    "            tensor[li][0] = torch.from_numpy(model[word])\n",
    "    return tensor"
   ]
  },
  {
   "cell_type": "code",
   "execution_count": 334,
   "metadata": {
    "collapsed": true
   },
   "outputs": [],
   "source": [
    "import torch.nn as nn\n",
    "n_categories = 5\n",
    "class RNN(nn.Module):\n",
    "    def __init__(self, input_size, hidden_size, output_size):\n",
    "        super(RNN, self).__init__()\n",
    "        self.hidden_size = hidden_size\n",
    "\n",
    "        self.i2h = nn.Linear(input_size + hidden_size, hidden_size)\n",
    "        self.i2o = nn.Linear(input_size + hidden_size, output_size)\n",
    "        self.o2o = nn.Linear(hidden_size + output_size, output_size)\n",
    "        self.dropout = nn.Dropout(0.2)\n",
    "        self.softmax = nn.LogSoftmax(dim=1)\n",
    "\n",
    "    def forward(self, input, hidden):\n",
    "        input_combined = torch.cat((input, hidden), 1)\n",
    "        hidden = self.i2h(input_combined)\n",
    "        output = self.i2o(input_combined)\n",
    "        output_combined = torch.cat((hidden, output), 1)\n",
    "        output = self.o2o(output_combined)\n",
    "        output = self.dropout(output)\n",
    "        output = self.softmax(output)\n",
    "        return output, hidden\n",
    "\n",
    "    def initHidden(self):\n",
    "        return torch.zeros(1, self.hidden_size)\n",
    "    \n",
    "class LSTM(nn.Module):\n",
    "\n",
    "    def __init__(self, hidden_dim):\n",
    "        super(LSTMTagger, self).__init__()\n",
    "        self.hidden_dim = hidden_dim\n",
    "\n",
    "        # The LSTM takes word embeddings as inputs, and outputs hidden states\n",
    "        # with dimensionality hidden_dim.\n",
    "        self.lstm = nn.LSTM(100, hidden_dim)\n",
    "\n",
    "        # The linear layer that maps from hidden state space to tag space\n",
    "        self.hidden2out = nn.Linear(hidden_dim, 5)\n",
    "        self.hidden = self.init_hidden()\n",
    "\n",
    "    def init_hidden(self):\n",
    "        # Before we've done anything, we dont have any hidden state.\n",
    "        # Refer to the Pytorch documentation to see exactly\n",
    "        # why they have this dimensionality.\n",
    "        # The axes semantics are (num_layers, minibatch_size, hidden_dim)\n",
    "        return (torch.zeros(1, 1, self.hidden_dim),\n",
    "                torch.zeros(1, 1, self.hidden_dim))\n",
    "\n",
    "    def forward(self, input):\n",
    "        lstm_out, self.hidden = self.lstm(input, self.hidden)\n",
    "        out = self.hidden2out(self.hidden)\n",
    "        out = F.log_softmax(out, dim=1)\n",
    "        return out\n",
    "\n",
    "n_hidden = 100\n",
    "rnn = RNN(100, n_hidden, 5)"
   ]
  },
  {
   "cell_type": "code",
   "execution_count": 335,
   "metadata": {},
   "outputs": [
    {
     "name": "stderr",
     "output_type": "stream",
     "text": [
      "C:\\ProgramData\\Anaconda3\\lib\\site-packages\\ipykernel_launcher.py:11: DeprecationWarning: Call to deprecated `__contains__` (Method will be removed in 4.0.0, use self.wv.__contains__() instead).\n",
      "  # This is added back by InteractiveShellApp.init_path()\n",
      "C:\\ProgramData\\Anaconda3\\lib\\site-packages\\ipykernel_launcher.py:12: DeprecationWarning: Call to deprecated `__getitem__` (Method will be removed in 4.0.0, use self.wv.__getitem__() instead).\n",
      "  if sys.path[0] == '':\n"
     ]
    }
   ],
   "source": [
    "# One-hot vector for category\n",
    "def categoryTensor(category):\n",
    "    tensor = torch.zeros(1, 5)\n",
    "    tensor[0][category] = 1\n",
    "    return tensor\n",
    "\n",
    "input = review_to_tensor(reviews[3])\n",
    "hidden = torch.zeros(1, n_hidden)\n",
    "category = categoryTensor(y[3])\n",
    "output, next_hidden = rnn(input[0], hidden)"
   ]
  },
  {
   "cell_type": "code",
   "execution_count": 336,
   "metadata": {},
   "outputs": [
    {
     "name": "stderr",
     "output_type": "stream",
     "text": [
      "C:\\ProgramData\\Anaconda3\\lib\\site-packages\\ipykernel_launcher.py:11: DeprecationWarning: Call to deprecated `__contains__` (Method will be removed in 4.0.0, use self.wv.__contains__() instead).\n",
      "  # This is added back by InteractiveShellApp.init_path()\n",
      "C:\\ProgramData\\Anaconda3\\lib\\site-packages\\ipykernel_launcher.py:12: DeprecationWarning: Call to deprecated `__getitem__` (Method will be removed in 4.0.0, use self.wv.__getitem__() instead).\n",
      "  if sys.path[0] == '':\n"
     ]
    },
    {
     "data": {
      "text/plain": [
       "tensor([[[ 6.5831,  4.2803, -4.4527,  ...,  0.7554, -0.4660, -2.0357]],\n",
       "\n",
       "        [[ 4.4599, -2.3481, -0.8871,  ...,  5.3055, -0.4463,  5.2171]],\n",
       "\n",
       "        [[ 4.8540,  3.0677, -0.8828,  ..., -3.0054,  0.3446, -1.2148]],\n",
       "\n",
       "        ...,\n",
       "\n",
       "        [[ 0.3005, -3.7607,  1.5351,  ..., -3.4989, -1.5394,  1.2987]],\n",
       "\n",
       "        [[ 3.5993,  3.1479, -2.3967,  ...,  0.2867, -2.6979, -2.1864]],\n",
       "\n",
       "        [[-1.7778,  2.3472,  0.1473,  ...,  0.4434,  0.6594, -6.2985]]])"
      ]
     },
     "execution_count": 336,
     "metadata": {},
     "output_type": "execute_result"
    }
   ],
   "source": [
    "review_to_tensor(reviews[73959])"
   ]
  },
  {
   "cell_type": "code",
   "execution_count": 337,
   "metadata": {},
   "outputs": [
    {
     "data": {
      "text/plain": [
       "tensor([[-1.3889, -1.4541, -1.7246, -1.8057, -1.7461]], grad_fn=<LogSoftmaxBackward>)"
      ]
     },
     "execution_count": 337,
     "metadata": {},
     "output_type": "execute_result"
    }
   ],
   "source": [
    "def categoryFromOutput(output):\n",
    "    top_n, top_i = output.topk(1)\n",
    "    category_i = top_i[0].item()\n",
    "    return category_i\n",
    "categoryFromOutput(output)\n",
    "output"
   ]
  },
  {
   "cell_type": "code",
   "execution_count": 338,
   "metadata": {
    "collapsed": true
   },
   "outputs": [],
   "source": [
    "criterion = nn.NLLLoss()"
   ]
  },
  {
   "cell_type": "code",
   "execution_count": 339,
   "metadata": {
    "collapsed": true
   },
   "outputs": [],
   "source": [
    "learning_rate = 0.0001 # If you set this too high, it might explode. If too low, it might not learn\n",
    "\n",
    "def train(line_tensor, hidden, ct):\n",
    "    hidden = rnn.initHidden()\n",
    "\n",
    "    rnn.zero_grad()\n",
    "\n",
    "    for i in range(line_tensor.size()[0]):\n",
    "        output, hidden = rnn(line_tensor[i], hidden)\n",
    "\n",
    "    loss = criterion(output, ct)\n",
    "    loss.backward()\n",
    "\n",
    "    # Add parameters' gradients to their values, multiplied by learning rate\n",
    "    for p in rnn.parameters():\n",
    "        p.data.add_(-learning_rate, p.grad.data)\n",
    "\n",
    "    return output, hidden, loss.item()"
   ]
  },
  {
   "cell_type": "code",
   "execution_count": 340,
   "metadata": {},
   "outputs": [
    {
     "name": "stderr",
     "output_type": "stream",
     "text": [
      "C:\\ProgramData\\Anaconda3\\lib\\site-packages\\ipykernel_launcher.py:11: DeprecationWarning: Call to deprecated `__contains__` (Method will be removed in 4.0.0, use self.wv.__contains__() instead).\n",
      "  # This is added back by InteractiveShellApp.init_path()\n",
      "C:\\ProgramData\\Anaconda3\\lib\\site-packages\\ipykernel_launcher.py:12: DeprecationWarning: Call to deprecated `__getitem__` (Method will be removed in 4.0.0, use self.wv.__getitem__() instead).\n",
      "  if sys.path[0] == '':\n"
     ]
    },
    {
     "data": {
      "text/plain": [
       "(0,\n",
       " 'I LOVE these beautiful earrings. I wanted something for that 2nd hole up higher on my ear lobe. I wanted something large enough to be seen and add a little color to my pale complexion. These are just what I wanted!',\n",
       " tensor([[1., 0., 0., 0., 0.]]),\n",
       " tensor([[[ 4.1525,  0.2597,  0.4140,  ..., -0.9523, -2.6033, -1.6936]],\n",
       " \n",
       "         [[-1.3386, -0.9493,  3.4099,  ..., -2.0856, -2.7873, -2.5723]],\n",
       " \n",
       "         [[-2.1854, -0.7062, -1.3682,  ..., -2.4345,  3.0724, -2.1045]],\n",
       " \n",
       "         ...,\n",
       " \n",
       "         [[ 1.3475, -1.5548, -1.2212,  ...,  3.4966, -2.6836, -1.3082]],\n",
       " \n",
       "         [[ 4.1525,  0.2597,  0.4140,  ..., -0.9523, -2.6033, -1.6936]],\n",
       " \n",
       "         [[ 2.5461, -0.7319,  0.5716,  ..., -1.2392, -1.3994,  0.9284]]]),\n",
       " tensor([0]))"
      ]
     },
     "execution_count": 340,
     "metadata": {},
     "output_type": "execute_result"
    }
   ],
   "source": [
    "def randomTrainingExample():\n",
    "    i = random.randint(0,len(reviews)-1)\n",
    "    category = y[i]\n",
    "    line = reviews[i]\n",
    "    line_tensor = review_to_tensor(reviews[i])\n",
    "    if len(line_tensor) == 0:\n",
    "        return randomTrainingExample()\n",
    "    category_tensor = categoryTensor(category)\n",
    "    ct = torch.tensor([category], dtype=torch.long)\n",
    "    return category, line, category_tensor, line_tensor, ct\n",
    "randomTrainingExample()"
   ]
  },
  {
   "cell_type": "code",
   "execution_count": 341,
   "metadata": {},
   "outputs": [
    {
     "name": "stderr",
     "output_type": "stream",
     "text": [
      "C:\\ProgramData\\Anaconda3\\lib\\site-packages\\ipykernel_launcher.py:11: DeprecationWarning: Call to deprecated `__contains__` (Method will be removed in 4.0.0, use self.wv.__contains__() instead).\n",
      "  # This is added back by InteractiveShellApp.init_path()\n",
      "C:\\ProgramData\\Anaconda3\\lib\\site-packages\\ipykernel_launcher.py:12: DeprecationWarning: Call to deprecated `__getitem__` (Method will be removed in 4.0.0, use self.wv.__getitem__() instead).\n",
      "  if sys.path[0] == '':\n"
     ]
    },
    {
     "name": "stdout",
     "output_type": "stream",
     "text": [
      "5000 5% (1m 6s) 0.3788 I have never worn crocs before, so I'm not sure I'm the best to review these.  They were very sloppy and oversized and I normally wear a size 9M. / 0 ✓\n",
      "10000 10% (2m 11s) 4.5784 The flower is larger (but not too large, like some of the baby satellite antennae available out there) than I thought it would be and is much much prettier.  I expected to like it but I love it.  Love it! / 0 ✗ (4)\n",
      "15000 15% (3m 15s) 0.2901 This is a very comfortable shoe. It has several cutouts that make it more like a sandal. The photo does not show al of the cutouts. It was only after I saw this shoe at a store that I realized how like a fisherman's sandal it was.  I guess Clark's is not using the Privo Brand so much now, but this is a Privo type shoe and has the little bumps in the insole like the Privos did.I was pleased to see how many colors are available and plan to order another pair. The only downside on some colors is that the elastic straps are not a perfect match for the leather. / 0 ✓\n",
      "20000 20% (4m 17s) 0.1653 GREAT-GREAT support!!! Very comfortable and VERY supportive (my bra size is 38C). I was amazed how supportuve it was when I wore first time. Not all bras with wires are so good. I bought it for wearing in the night.  I don't wear it during the day because ... I don't want to be embarrassed when it's cold.:-)  Other than that - it's a great bra!!!The only problem that I have had with it - the fabric has faded in the front (because of cosmetics with acid (for skin with acne) I apply on my chest before I go to bed) but it my fault.  Just want to warn people.  So make sure you apply cosmetics only on your chest, avoid contact with the fabric.Going to buy it again. And again. And again. / 0 ✓\n",
      "25000 25% (5m 20s) 1.3540 Very pleased with this watch. Even though not assembled in Switzerland, the inner components are all Swis made. I own very expensive watches, so I'm anxious to see how the Invicta product endures. / 0 ✗ (1)\n",
      "30000 30% (6m 23s) 2.0646 I ordered two of these. One black and one Khaki. Both are ok, but stand too tall even for an old style cap. The hook & loop sticks to everything. / 0 ✗ (1)\n",
      "35000 35% (7m 25s) 0.1284 this is not the watch that I ordered, it is more beautiful, I guess they were out of the one that was advertised and they substituted this one and I am glad they did, I love it / 0 ✓\n",
      "40000 40% (8m 27s) 0.1160 When you first put these on they are really nice but after a while they get pretty loose and move around which gets pretty annoying. The fabric is pretty light which makes it a bit more breathable but definitely not more durable. I really like the color too. / 0 ✓\n",
      "45000 45% (9m 28s) 0.5550 These are funky sneakers -  I bought them mostly because of the color - they're meant to be more like running barefoot and NOT recommended to wear all the time - that's the only drawback, but I have worn them for full days and have not noticed any issues in my legs or knees (they come with a warning about this) / 0 ✓\n",
      "50000 50% (10m 29s) 1.4700 My title pretty much says it all!  First, let me give you a bit of my background:  I own a manufacturing plant and from time to time (meaning several times a day) I am out on the production floor or in the machine shop or maintenance building.  The environment ranges from dusty to oily to dirty.  For years, I would wear khaki's, but after a day, wrinkles abound.  A couple of years ago, I switched to gabardine pants, purchased from JA Banks, Lands End and Brooks Brothers.  On a lark, while killing time in a mall while my wife and daughter were shopping, I came a across a pair of these pants in a color/fabric that I liked.  I tried a few pair on and ended up with a size that is a perfect fit (I normally wear a 36 waist with a 31 inseam).  That size is 38 waist and 30 inseam (so the pants run a tad small).  Long story short:  they wear like iron and look great for multiple wearings.  Hang them up and wrinkles seem to disappear!Since that first pair, through the passing months I have ordered at least 5 more pair.  All fit exactly like the first and all wear the same!  To be truthful, I never expected a pair of trousers of this caliber from Haggar, but these are simply a bargain at the roughly $35.00 price point.  Yes, I still wear Brooks Brothers and Polo/Ralph Lauren, but these are damn near as good at one-third the cost! / 0 ✗ (1)\n",
      "55000 55% (11m 30s) 0.1880 Attractive low heeled loafer, great for slacks.  The sizing is not true to fit.  I had to return these.  They ran a good half size too long, but I chose to not replace them with another size.  Sometimes that becomes an unending exchange sending back and forth to correctly fit.  I picked out a different Clarks shoe and it fit perfectly. / 0 ✓\n",
      "60000 60% (12m 29s) 0.1670 One star off for being a little longer than expected and fabric is thinner than what it looks. FIts great, I am in between the size S and M based on their measurements so I went with M. I am 5'3 and 140 lbs with 29&#34; waist and 37 hips. Looks elegant and fits comfortably. Nice stretchy material. If you buy lighter color, may need a slip under it. Will definitely buy another one. / 0 ✓\n",
      "65000 65% (13m 32s) 0.6241 I tried on at least 5 sets of fleece-lined tights from Amazon and these were by far my favorite. They are warm, but look just like normal dark tights. They do cling to wool more than normal tights, but work well under other fabrics or lined skirts. These fit as expected and they come up high enough (lots of the fleece-lined tights I tried sat too low). They are not tight on the top and do not create the dreaded &#34;muffin top.&#34; They are also good quality and seem like they will last a long time. (I have already worn and washed them three times and they seem just like brand new.) Several of the other fleece-lined tights I tried on were already damaged or tore when getting them out of the package -- these were the definite winners. / 0 ✓\n",
      "70000 70% (14m 33s) 0.2482 I love this ring because it is believable that i could actually afford a diamond ring like this one and no one would think twice. The ring shines and sparkle beautifully. I've received more compliments than i anticipated. This ring is believable for the average working couple who's on a budget. Let's be real most of us on Amazon looking for a nice deal for our buck well this ring you can't go wrong for the price and on Amazon an upgrade is ssoooo easy to do when we're ready. Just think at these prices an upgrade can be done yearly. If you like change like i do this is an ideal way to purchase wedding rings. Spending 800-1000 on rings you stuck with the same look for years the average working Joe I'm speaking of. That same money i can change up at anytime and not feel guilty about money. The rings are beautiful and came so fast. / 0 ✓\n",
      "75000 75% (15m 36s) 0.5651 These are quite beautiful and perfect gifts for granddaughters who need to know their Guardian Angels are always with them. / 0 ✓\n",
      "80000 80% (16m 40s) 0.9715 It is very nice but way too long.  My husband is 5'11 1/2.  It dragged on the floor and then some. / 1 ✓\n",
      "85000 85% (17m 42s) 1.9275 These shorts are as described, but I didn't read closely enough to make sure they had pockets, which they don't.I like them otherwise, so I kept them. But since I always have doggy bags and licorice in my pockets, I find that I just don'twear them. They are good quality and nice length and color. But I'll probably will end up donating them to a thrift store. / 0 ✗ (1)\n",
      "90000 90% (18m 42s) 0.0795 I love Aerosoles, but the shaft was to high for me. I am 5'4, and the boot came all the way up to the back of my knee. I could feel the boot every time I bent my knee. It was not comfortable. I sent them back. If you have long legs, the boots would be great. I have short legs. / 0 ✓\n",
      "95000 95% (19m 45s) 0.2381 I wasn't sure what to expect when ordering this... however, I was quite suprised at the quaility and fit. The fit of this bra is good around my chest moreover, the fit of the cup for my size (B-C) is perfect for me. My breasts land perfectly in the cups and achieve the look I'm going for.  The fabric is smooth and not scratchy.  It washes well and is beautiful on.  With that said, MY HUSBAND LOVES IT JUST AS MUCH!!!  And for the amount of time it stays on me and the reaction I get, it&#8217;s achieving what I intended it to do! / 0 ✓\n"
     ]
    },
    {
     "name": "stdout",
     "output_type": "stream",
     "text": [
      "100000 100% (20m 47s) 0.7103 Very good quality, very nice fit.  Reviews that other buyers posted were very helpful.  In fact, the reviews are what I go by, not just the product description.  They tell you pretty much everything you need to know, and there are no surprises. / 0 ✓\n"
     ]
    }
   ],
   "source": [
    "import time\n",
    "import math\n",
    "import random\n",
    "n_iters = 100000\n",
    "print_every = 5000\n",
    "plot_every = 1000\n",
    "\n",
    "\n",
    "# Keep track of losses for plotting\n",
    "current_loss = 0\n",
    "all_losses = []\n",
    "\n",
    "def timeSince(since):\n",
    "    now = time.time()\n",
    "    s = now - since\n",
    "    m = math.floor(s / 60)\n",
    "    s -= m * 60\n",
    "    return '%dm %ds' % (m, s)\n",
    "\n",
    "start = time.time()\n",
    "\n",
    "for iter in range(1, n_iters + 1):\n",
    "    category, line, category_tensor, line_tensor, ct = randomTrainingExample()\n",
    "    output, hidden, loss = train(line_tensor, hidden, ct)\n",
    "    current_loss += loss\n",
    "\n",
    "    # Print iter number, loss, name and guess\n",
    "    if iter % print_every == 0:\n",
    "        guess = categoryFromOutput(output)\n",
    "        correct = '✓' if guess == category else '✗ (%s)' % category\n",
    "        print('%d %d%% (%s) %.4f %s / %s %s' % (iter, iter / n_iters * 100, timeSince(start), loss, line, guess, correct))\n",
    "\n",
    "    # Add current loss avg to list of losses\n",
    "    if iter % plot_every == 0:\n",
    "        all_losses.append(current_loss / plot_every)\n",
    "        current_loss = 0"
   ]
  },
  {
   "cell_type": "code",
   "execution_count": 346,
   "metadata": {},
   "outputs": [
    {
     "data": {
      "text/plain": [
       "[<matplotlib.lines.Line2D at 0x13026c5f048>]"
      ]
     },
     "execution_count": 346,
     "metadata": {},
     "output_type": "execute_result"
    },
    {
     "data": {
      "image/png": "[encoded data removed]",
      "text/plain": [
       "<matplotlib.figure.Figure at 0x12f9f714c50>"
      ]
     },
     "metadata": {},
     "output_type": "display_data"
    }
   ],
   "source": [
    "%matplotlib inline\n",
    "import matplotlib.pyplot as plt\n",
    "import matplotlib.ticker as ticker\n",
    "\n",
    "plt.figure()\n",
    "plt.plot(all_losses)"
   ]
  },
  {
   "cell_type": "code",
   "execution_count": 289,
   "metadata": {},
   "outputs": [
    {
     "data": {
      "text/plain": [
       "tensor([[-0.3955, -1.3778, -6.7090, -2.6287, -6.7912]], grad_fn=<LogSoftmaxBackward>)"
      ]
     },
     "execution_count": 289,
     "metadata": {},
     "output_type": "execute_result"
    }
   ],
   "source": [
    "# Just return an output given a line\n",
    "def evaluate(line_tensor):\n",
    "    hidden = rnn.initHidden()\n",
    "    output = []\n",
    "    for i in range(line_tensor.size()[0]):\n",
    "        output, hidden = rnn(line_tensor[i], hidden)\n",
    "    return output\n",
    "evaluate(review_to_tensor(reviews[1]))"
   ]
  },
  {
   "cell_type": "code",
   "execution_count": 290,
   "metadata": {
    "collapsed": true
   },
   "outputs": [],
   "source": [
    "def readGz(f):\n",
    "    for l in gzip.open(f):\n",
    "        yield eval(l)\n",
    "        \n",
    "predictions = open(\"rnn_prediction_category1.txt\", 'w')\n",
    "predictions.write(\"reviewerID-reviewHash,category\\n\")\n",
    "for l in readGz(\"test_Category.json.gz\"):\n",
    "    with torch.no_grad():\n",
    "        output = evaluate(review_to_tensor(l['reviewText']))\n",
    "    if len(output) == 0:\n",
    "        cat = 0\n",
    "    else:\n",
    "        cat = categoryFromOutput(output)\n",
    "    predictions.write(l['reviewerID'] + '-' + l['reviewHash'] + \",\" + str(cat) + \"\\n\")\n",
    "\n",
    "predictions.close()"
   ]
  },
  {
   "cell_type": "code",
   "execution_count": 345,
   "metadata": {},
   "outputs": [
    {
     "name": "stderr",
     "output_type": "stream",
     "text": [
      "C:\\ProgramData\\Anaconda3\\lib\\site-packages\\ipykernel_launcher.py:11: DeprecationWarning: Call to deprecated `__contains__` (Method will be removed in 4.0.0, use self.wv.__contains__() instead).\n",
      "  # This is added back by InteractiveShellApp.init_path()\n",
      "C:\\ProgramData\\Anaconda3\\lib\\site-packages\\ipykernel_launcher.py:12: DeprecationWarning: Call to deprecated `__getitem__` (Method will be removed in 4.0.0, use self.wv.__getitem__() instead).\n",
      "  if sys.path[0] == '':\n"
     ]
    },
    {
     "name": "stdout",
     "output_type": "stream",
     "text": [
      "0.72775\n"
     ]
    }
   ],
   "source": [
    "predictions = []\n",
    "for l in data[:20000]:\n",
    "    with torch.no_grad():\n",
    "        output = evaluate(review_to_tensor(l['reviewText']))\n",
    "        if len(output) == 0:\n",
    "            cat = 0\n",
    "        else:\n",
    "            cat = categoryFromOutput(output)\n",
    "    predictions.append(cat)\n",
    "correct = [(a==b) for (a,b) in zip(predictions, y[:20000])]\n",
    "print(np.sum(correct)/len(predictions))"
   ]
  },
  {
   "cell_type": "code",
   "execution_count": null,
   "metadata": {
    "collapsed": true
   },
   "outputs": [],
   "source": []
  }
 ],
 "metadata": {
  "kernelspec": {
   "display_name": "Python 3",
   "language": "python",
   "name": "python3"
  },
  "language_info": {
   "codemirror_mode": {
    "name": "ipython",
    "version": 3
   },
   "file_extension": ".py",
   "mimetype": "text/x-python",
   "name": "python",
   "nbconvert_exporter": "python",
   "pygments_lexer": "ipython3",
   "version": "3.6.3"
  }
 },
 "nbformat": 4,
 "nbformat_minor": 2
}
